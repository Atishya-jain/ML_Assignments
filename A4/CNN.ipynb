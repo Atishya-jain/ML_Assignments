{
 "cells": [
  {
   "cell_type": "code",
   "execution_count": 1,
   "metadata": {},
   "outputs": [],
   "source": [
    "import numpy as np\n",
    "from sklearn.metrics import confusion_matrix, classification_report, accuracy_score\n",
    "\n",
    "import torch\n",
    "import torch.nn as nn\n",
    "import torch.nn.functional as F\n",
    "import torch.optim as optim\n",
    "from torch.utils import data\n",
    "from torch.utils.data import DataLoader"
   ]
  },
  {
   "cell_type": "code",
   "execution_count": null,
   "metadata": {},
   "outputs": [],
   "source": []
  },
  {
   "cell_type": "code",
   "execution_count": 2,
   "metadata": {},
   "outputs": [],
   "source": [
    "class my_dataloader(data.Dataset):\n",
    "    def __init__(self, pathx, pathy):\n",
    "        self.X = torch.from_numpy(np.load(pathx)).float()\n",
    "        self.Y = torch.from_numpy(np.load(pathy)).long()\n",
    "    def __len__(self):\n",
    "        return self.X.shape[0]\n",
    "    def __getitem__(self, index):\n",
    "        return self.X[index], self.Y[index]"
   ]
  },
  {
   "cell_type": "code",
   "execution_count": 16,
   "metadata": {},
   "outputs": [],
   "source": [
    "class Net(nn.Module):\n",
    "    fin_x = 0\n",
    "    fin_y = 0\n",
    "    image_x = 36\n",
    "    image_y = 41\n",
    "    k_size = 3\n",
    "    stride = 2\n",
    "    pool_size = 2\n",
    "    def __init__(self):\n",
    "        super(Net, self).__init__()\n",
    "        self.conv1 = nn.Conv2d(15, 32, self.k_size, self.stride)\n",
    "        self.pool1 = nn.MaxPool2d(self.pool_size, self.pool_size)\n",
    "        self.conv2 = nn.Conv2d(32, 64, self.k_size, self.stride)\n",
    "        self.pool2 = nn.MaxPool2d(self.pool_size, self.pool_size)\n",
    "        tmpx = int((int((self.image_x-self.k_size)/self.stride)+1)/self.pool_size)\n",
    "        tmpy = int((int((self.image_y-self.k_size)/self.stride)+1)/self.pool_size)\n",
    "        self.fin_x = int((int((tmpx-self.k_size)/self.stride)+1)/self.pool_size)\n",
    "        self.fin_y = int((int((tmpy-self.k_size)/self.stride)+1)/self.pool_size)\n",
    "        \n",
    "        self.fc1 = nn.Linear(64 * self.fin_x * self.fin_y, 2048)\n",
    "#         self.fc1 = nn.Linear(64 * self.fin_x * self.fin_y, 2)\n",
    "        self.fc2 = nn.Linear(2048, 2)\n",
    "        self.sof = nn.LogSoftmax()\n",
    "#         self.fc3 = nn.Linear(84, 10)\n",
    "\n",
    "    def forward(self, x):\n",
    "        x = self.pool1(F.relu(self.conv1(x)))\n",
    "        x = self.pool2(F.relu(self.conv2(x)))\n",
    "#         print(x.shape)\n",
    "        x = x.view(-1, 64 * self.fin_x * self.fin_y)\n",
    "        x = F.relu(self.fc1(x))\n",
    "        x = F.relu(self.fc2(x))\n",
    "        x = self.sof(x)\n",
    "        return x\n",
    "\n",
    "net = Net()\n",
    "net = net.cuda()"
   ]
  },
  {
   "cell_type": "code",
   "execution_count": 17,
   "metadata": {},
   "outputs": [],
   "source": [
    "criterion = nn.NLLLoss()\n",
    "optimizer = optim.Adam(net.parameters(), lr=0.00001)"
   ]
  },
  {
   "cell_type": "code",
   "execution_count": 5,
   "metadata": {},
   "outputs": [],
   "source": [
    "batch_size = 100\n",
    "train_set = my_dataloader('test_x_0_100_rgb.npy', 'test_y_0_100_rgb.npy')\n",
    "train_generator = DataLoader(train_set, batch_size=batch_size, shuffle=True, num_workers=4)"
   ]
  },
  {
   "cell_type": "code",
   "execution_count": 18,
   "metadata": {},
   "outputs": [
    {
     "name": "stderr",
     "output_type": "stream",
     "text": [
      "/media/atishya/New_Volume/books_and_papers/Iit/3rd_Year/Sem2/COL772/Asignment/Project/conv-emotion/venv/lib/python3.5/site-packages/ipykernel_launcher.py:33: UserWarning: Implicit dimension choice for log_softmax has been deprecated. Change the call to include dim=X as an argument.\n"
     ]
    },
    {
     "name": "stdout",
     "output_type": "stream",
     "text": [
      "[1] loss: 0.701\n",
      "[2] loss: 0.689\n",
      "[3] loss: 0.685\n",
      "[4] loss: 0.683\n",
      "[5] loss: 0.682\n",
      "[6] loss: 0.680\n",
      "[7] loss: 0.678\n",
      "[8] loss: 0.678\n",
      "[9] loss: 0.677\n",
      "[10] loss: 0.676\n"
     ]
    }
   ],
   "source": [
    "for epoch in range(10):\n",
    "    running_loss = 0.0\n",
    "    count = 0\n",
    "    for x,y in train_generator:\n",
    "#         print(x.shape)\n",
    "        optimizer.zero_grad()\n",
    "        outputs = net(x.cuda())\n",
    "        loss = criterion(outputs, y.cuda())\n",
    "        loss.backward()\n",
    "        optimizer.step()\n",
    "        running_loss += loss.item()\n",
    "        count += 1\n",
    "    print('[%d] loss: %.3f' %(epoch + 1, running_loss / count))"
   ]
  },
  {
   "cell_type": "code",
   "execution_count": 19,
   "metadata": {},
   "outputs": [
    {
     "name": "stderr",
     "output_type": "stream",
     "text": [
      "/media/atishya/New_Volume/books_and_papers/Iit/3rd_Year/Sem2/COL772/Asignment/Project/conv-emotion/venv/lib/python3.5/site-packages/ipykernel_launcher.py:33: UserWarning: Implicit dimension choice for log_softmax has been deprecated. Change the call to include dim=X as an argument.\n"
     ]
    }
   ],
   "source": [
    "# Test_NN_X = torch.from_numpy(np.load('test_x_0_100_rgb.npy')).float()\n",
    "# Test_NN_Y = torch.from_numpy(np.load('test_y_0_100_rgb.npy')).long()\n",
    "# preds_Test = torch.argmax(model(Test_NN_X), 1)\n",
    "preds_Test = torch.argmax(net(train_set.X.cuda()), 1)"
   ]
  },
  {
   "cell_type": "code",
   "execution_count": 20,
   "metadata": {},
   "outputs": [],
   "source": [
    "# print(\"----------Test Accuracy-----------\")\n",
    "# print(accuracy_score(Test_NN_Y, preds_Test))\n",
    "# print(confusion_matrix(Test_NN_Y, preds_Test))\n",
    "# print(classification_report(Test_NN_Y, preds_Test))"
   ]
  },
  {
   "cell_type": "code",
   "execution_count": 21,
   "metadata": {},
   "outputs": [
    {
     "name": "stdout",
     "output_type": "stream",
     "text": [
      "----------Test Accuracy-----------\n",
      "0.5942726231386025\n",
      "[[4557  211]\n",
      " [3331  631]]\n",
      "              precision    recall  f1-score   support\n",
      "\n",
      "           0       0.58      0.96      0.72      4768\n",
      "           1       0.75      0.16      0.26      3962\n",
      "\n",
      "   micro avg       0.59      0.59      0.59      8730\n",
      "   macro avg       0.66      0.56      0.49      8730\n",
      "weighted avg       0.66      0.59      0.51      8730\n",
      "\n"
     ]
    }
   ],
   "source": [
    "print(\"----------Test Accuracy-----------\")\n",
    "print(accuracy_score(train_set.Y, preds_Test))\n",
    "print(confusion_matrix(train_set.Y, preds_Test))\n",
    "print(classification_report(train_set.Y, preds_Test))"
   ]
  },
  {
   "cell_type": "code",
   "execution_count": null,
   "metadata": {},
   "outputs": [],
   "source": []
  },
  {
   "cell_type": "code",
   "execution_count": null,
   "metadata": {},
   "outputs": [],
   "source": []
  },
  {
   "cell_type": "code",
   "execution_count": null,
   "metadata": {},
   "outputs": [],
   "source": []
  }
 ],
 "metadata": {
  "kernelspec": {
   "display_name": "venv",
   "language": "python",
   "name": "venv"
  },
  "language_info": {
   "codemirror_mode": {
    "name": "ipython",
    "version": 3
   },
   "file_extension": ".py",
   "mimetype": "text/x-python",
   "name": "python",
   "nbconvert_exporter": "python",
   "pygments_lexer": "ipython3",
   "version": "3.5.2"
  }
 },
 "nbformat": 4,
 "nbformat_minor": 2
}
