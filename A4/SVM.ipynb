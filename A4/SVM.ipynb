{
 "cells": [
  {
   "cell_type": "code",
   "execution_count": 7,
   "metadata": {},
   "outputs": [],
   "source": [
    "from sklearn.decomposition import PCA\n",
    "import numpy as np\n",
    "import sklearn\n",
    "from sklearn import svm\n",
    "import csv\n",
    "from sklearn.model_selection import train_test_split\n",
    "\n",
    "from sklearn.metrics import confusion_matrix, classification_report, accuracy_score"
   ]
  },
  {
   "cell_type": "code",
   "execution_count": 22,
   "metadata": {},
   "outputs": [],
   "source": [
    "temp = []\n",
    "with open('data/train_x', newline='\\n') as csvfile:\n",
    "    spamreader = csv.reader(csvfile, delimiter=' ', quotechar='|')\n",
    "    for row in spamreader:\n",
    "#         print(row)\n",
    "        temp.append([float(x) for x in row[:-1]])\n",
    "\n",
    "Train_X = np.array(temp, dtype=float)\n",
    "\n",
    "temp = []\n",
    "with open('data/train_y', newline='\\n') as csvfile:\n",
    "    spamreader = csv.reader(csvfile, delimiter=' ', quotechar='|')\n",
    "    for row in spamreader:\n",
    "        temp.append([float(x) for x in row[:-1]])\n",
    "\n",
    "Train_Y = np.array(temp, dtype=float)\n",
    "\n",
    "\n",
    "# Train_Y = Train_X[:,-1]\n",
    "# Train_X = Train_X[:,:-1]\n",
    "\n",
    "# X_Train = \n",
    "# Y_Train = \n",
    "# X_Test = \n",
    "# Y_Test = "
   ]
  },
  {
   "cell_type": "code",
   "execution_count": null,
   "metadata": {},
   "outputs": [],
   "source": [
    "pca_x_train = Train_PCA_X.reshape((Train_PCA_X.shape[0]*5,int(Train_PCA_X.shape[1]/5)))\n",
    "pca_x_test = Test_PCA_X.reshape((Test_PCA_X.shape[0]*5,int(Test_PCA_X.shape[1]/5)))\n",
    "\n",
    "print(pca_x_train.shape)\n",
    "print(pca_x_test.shape)\n",
    "# print(pca_x_train[0])"
   ]
  },
  {
   "cell_type": "code",
   "execution_count": 3,
   "metadata": {},
   "outputs": [
    {
     "ename": "NameError",
     "evalue": "name 'X' is not defined",
     "output_type": "error",
     "traceback": [
      "\u001b[0;31m---------------------------------------------------------------------------\u001b[0m",
      "\u001b[0;31mNameError\u001b[0m                                 Traceback (most recent call last)",
      "\u001b[0;32m<ipython-input-3-034914d8d3a0>\u001b[0m in \u001b[0;36m<module>\u001b[0;34m\u001b[0m\n\u001b[1;32m      1\u001b[0m \u001b[0mpca\u001b[0m \u001b[0;34m=\u001b[0m \u001b[0mPCA\u001b[0m\u001b[0;34m(\u001b[0m\u001b[0mn_components\u001b[0m\u001b[0;34m=\u001b[0m\u001b[0;36m50\u001b[0m\u001b[0;34m)\u001b[0m\u001b[0;34m\u001b[0m\u001b[0m\n\u001b[0;32m----> 2\u001b[0;31m \u001b[0mpca\u001b[0m\u001b[0;34m.\u001b[0m\u001b[0mfit\u001b[0m\u001b[0;34m(\u001b[0m\u001b[0mX\u001b[0m\u001b[0;34m)\u001b[0m\u001b[0;34m\u001b[0m\u001b[0m\n\u001b[0m",
      "\u001b[0;31mNameError\u001b[0m: name 'X' is not defined"
     ]
    }
   ],
   "source": [
    "pca = PCA(n_components=50)\n",
    "pca_x_train = pca.fit_transform(pca_x_train)\n",
    "pca_x_test = pca.transform(pca_x_test)\n",
    "# pca.fit_transform(Train_PCA_X)\n",
    "# pca.transform(Test_PCA_X)"
   ]
  },
  {
   "cell_type": "code",
   "execution_count": null,
   "metadata": {},
   "outputs": [],
   "source": [
    "print(pca_x_train.shape)\n",
    "print(pca_x_test.shape)\n",
    "Train_PCA_X = pca_x_train.reshape((int(pca_x_train.shape[0]/5),pca_x_train.shape[1]*5))\n",
    "Test_PCA_X = pca_x_test.reshape((int(pca_x_test.shape[0]/5),pca_x_test.shape[1]*5))\n",
    "print(Train_PCA_X.shape)\n",
    "print(Test_PCA_X.shape)"
   ]
  },
  {
   "cell_type": "code",
   "execution_count": 4,
   "metadata": {},
   "outputs": [
    {
     "ename": "NameError",
     "evalue": "name 'svm' is not defined",
     "output_type": "error",
     "traceback": [
      "\u001b[0;31m---------------------------------------------------------------------------\u001b[0m",
      "\u001b[0;31mNameError\u001b[0m                                 Traceback (most recent call last)",
      "\u001b[0;32m<ipython-input-4-7e59ceb727c9>\u001b[0m in \u001b[0;36m<module>\u001b[0;34m\u001b[0m\n\u001b[0;32m----> 1\u001b[0;31m \u001b[0mclf\u001b[0m \u001b[0;34m=\u001b[0m \u001b[0msvm\u001b[0m\u001b[0;34m.\u001b[0m\u001b[0mSVC\u001b[0m\u001b[0;34m(\u001b[0m\u001b[0mgamma\u001b[0m\u001b[0;34m=\u001b[0m\u001b[0;34m'auto'\u001b[0m\u001b[0;34m,\u001b[0m \u001b[0mkernel\u001b[0m\u001b[0;34m=\u001b[0m\u001b[0;34m'linear'\u001b[0m\u001b[0;34m,\u001b[0m \u001b[0mverbose\u001b[0m\u001b[0;34m=\u001b[0m\u001b[0;32mTrue\u001b[0m\u001b[0;34m)\u001b[0m\u001b[0;34m\u001b[0m\u001b[0m\n\u001b[0m\u001b[1;32m      2\u001b[0m \u001b[0mclf\u001b[0m\u001b[0;34m.\u001b[0m\u001b[0mfit\u001b[0m\u001b[0;34m(\u001b[0m\u001b[0mX_Train\u001b[0m\u001b[0;34m,\u001b[0m \u001b[0mY_Train\u001b[0m\u001b[0;34m)\u001b[0m\u001b[0;34m\u001b[0m\u001b[0m\n\u001b[1;32m      3\u001b[0m \u001b[0mclf\u001b[0m\u001b[0;34m.\u001b[0m\u001b[0mpredict\u001b[0m\u001b[0;34m(\u001b[0m\u001b[0mX_Train\u001b[0m\u001b[0;34m)\u001b[0m\u001b[0;34m\u001b[0m\u001b[0m\n\u001b[1;32m      4\u001b[0m \u001b[0mclf\u001b[0m\u001b[0;34m.\u001b[0m\u001b[0mpredict\u001b[0m\u001b[0;34m(\u001b[0m\u001b[0mX_Test\u001b[0m\u001b[0;34m)\u001b[0m\u001b[0;34m\u001b[0m\u001b[0m\n",
      "\u001b[0;31mNameError\u001b[0m: name 'svm' is not defined"
     ]
    }
   ],
   "source": [
    "clf = svm.SVC(gamma='auto', kernel='linear', verbose=True)\n",
    "clf.fit(X_Train, Y_Train)\n",
    "preds_Train = clf.predict(X_Train)\n",
    "preds_Test = clf.predict(X_Test)\n",
    "\n",
    "print(\"----------Train Accuracy-----------\")\n",
    "print(accuracy_score(Y_Train, preds_Train))\n",
    "print(confusion_matrix(Y_Train, preds_Train))\n",
    "print(classification_report(Y_Train, preds_Train))\n",
    "\n",
    "print(\"----------Test Accuracy-----------\")\n",
    "print(accuracy_score(Y_Test, preds_Test))\n",
    "print(confusion_matrix(Y_Test, preds_Test))\n",
    "print(classification_report(Y_Test, preds_Test))\n"
   ]
  },
  {
   "cell_type": "code",
   "execution_count": null,
   "metadata": {},
   "outputs": [],
   "source": [
    "clf_gauss = svm.SVC(gamma=0.05, verbose=True, C=1000)\n",
    "clf_gauss.fit(X_Train, Y_Train)\n",
    "preds_Train_gauss = clf_gauss.predict(X_Train)\n",
    "preds_Test_gauss = clf_gauss.predict(X_Test)\n",
    "\n",
    "print(\"----------Train Accuracy-----------\")\n",
    "print(accuracy_score(Y_Train, preds_Train_gauss))\n",
    "print(confusion_matrix(Y_Train, preds_Train_gauss))\n",
    "print(classification_report(Y_Train, preds_Train_gauss))\n",
    "\n",
    "print(\"----------Test Accuracy-----------\")\n",
    "print(accuracy_score(Y_Test, preds_Test_gauss))\n",
    "print(confusion_matrix(Y_Test, preds_Test_gauss))\n",
    "print(classification_report(Y_Test, preds_Test_gauss))\n"
   ]
  }
 ],
 "metadata": {
  "kernelspec": {
   "display_name": "venv",
   "language": "python",
   "name": "venv"
  },
  "language_info": {
   "codemirror_mode": {
    "name": "ipython",
    "version": 3
   },
   "file_extension": ".py",
   "mimetype": "text/x-python",
   "name": "python",
   "nbconvert_exporter": "python",
   "pygments_lexer": "ipython3",
   "version": "3.5.2"
  }
 },
 "nbformat": 4,
 "nbformat_minor": 2
}
